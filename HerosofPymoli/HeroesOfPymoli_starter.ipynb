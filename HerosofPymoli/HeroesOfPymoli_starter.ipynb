{
 "cells": [
  {
   "cell_type": "markdown",
   "metadata": {},
   "source": [
    "\n",
    "-----"
   ]
  },
  {
   "cell_type": "markdown",
   "metadata": {},
   "source": [
    "### Note\n",
    "* Instructions have been included for each segment. You do not have to follow them exactly, but they are included to help you think through the steps."
   ]
  },
  {
   "cell_type": "code",
   "execution_count": 2,
   "metadata": {},
   "outputs": [
    {
     "output_type": "execute_result",
     "data": {
      "text/plain": "     Purchase ID             SN  Age  Gender  Item ID  \\\n0              0        Lisim78   20    Male      108   \n1              1    Lisovynya38   40    Male      143   \n2              2     Ithergue48   24    Male       92   \n3              3  Chamassasya86   24    Male      100   \n4              4      Iskosia90   23    Male      131   \n..           ...            ...  ...     ...      ...   \n775          775     Aethedru70   21  Female       60   \n776          776         Iral74   21    Male      164   \n777          777     Yathecal72   20    Male       67   \n778          778        Sisur91    7    Male       92   \n779          779      Ennrian78   24    Male       50   \n\n                                     Item Name  Price  \n0    Extraction, Quickblade Of Trembling Hands   3.53  \n1                            Frenzied Scimitar   1.56  \n2                                 Final Critic   4.88  \n3                                  Blindscythe   3.27  \n4                                         Fury   1.44  \n..                                         ...    ...  \n775                                       Wolf   3.54  \n776                           Exiled Doomblade   1.63  \n777      Celeste, Incarnation of the Corrupted   3.46  \n778                               Final Critic   4.19  \n779                                       Dawn   4.60  \n\n[780 rows x 7 columns]",
      "text/html": "<div>\n<style scoped>\n    .dataframe tbody tr th:only-of-type {\n        vertical-align: middle;\n    }\n\n    .dataframe tbody tr th {\n        vertical-align: top;\n    }\n\n    .dataframe thead th {\n        text-align: right;\n    }\n</style>\n<table border=\"1\" class=\"dataframe\">\n  <thead>\n    <tr style=\"text-align: right;\">\n      <th></th>\n      <th>Purchase ID</th>\n      <th>SN</th>\n      <th>Age</th>\n      <th>Gender</th>\n      <th>Item ID</th>\n      <th>Item Name</th>\n      <th>Price</th>\n    </tr>\n  </thead>\n  <tbody>\n    <tr>\n      <th>0</th>\n      <td>0</td>\n      <td>Lisim78</td>\n      <td>20</td>\n      <td>Male</td>\n      <td>108</td>\n      <td>Extraction, Quickblade Of Trembling Hands</td>\n      <td>3.53</td>\n    </tr>\n    <tr>\n      <th>1</th>\n      <td>1</td>\n      <td>Lisovynya38</td>\n      <td>40</td>\n      <td>Male</td>\n      <td>143</td>\n      <td>Frenzied Scimitar</td>\n      <td>1.56</td>\n    </tr>\n    <tr>\n      <th>2</th>\n      <td>2</td>\n      <td>Ithergue48</td>\n      <td>24</td>\n      <td>Male</td>\n      <td>92</td>\n      <td>Final Critic</td>\n      <td>4.88</td>\n    </tr>\n    <tr>\n      <th>3</th>\n      <td>3</td>\n      <td>Chamassasya86</td>\n      <td>24</td>\n      <td>Male</td>\n      <td>100</td>\n      <td>Blindscythe</td>\n      <td>3.27</td>\n    </tr>\n    <tr>\n      <th>4</th>\n      <td>4</td>\n      <td>Iskosia90</td>\n      <td>23</td>\n      <td>Male</td>\n      <td>131</td>\n      <td>Fury</td>\n      <td>1.44</td>\n    </tr>\n    <tr>\n      <th>...</th>\n      <td>...</td>\n      <td>...</td>\n      <td>...</td>\n      <td>...</td>\n      <td>...</td>\n      <td>...</td>\n      <td>...</td>\n    </tr>\n    <tr>\n      <th>775</th>\n      <td>775</td>\n      <td>Aethedru70</td>\n      <td>21</td>\n      <td>Female</td>\n      <td>60</td>\n      <td>Wolf</td>\n      <td>3.54</td>\n    </tr>\n    <tr>\n      <th>776</th>\n      <td>776</td>\n      <td>Iral74</td>\n      <td>21</td>\n      <td>Male</td>\n      <td>164</td>\n      <td>Exiled Doomblade</td>\n      <td>1.63</td>\n    </tr>\n    <tr>\n      <th>777</th>\n      <td>777</td>\n      <td>Yathecal72</td>\n      <td>20</td>\n      <td>Male</td>\n      <td>67</td>\n      <td>Celeste, Incarnation of the Corrupted</td>\n      <td>3.46</td>\n    </tr>\n    <tr>\n      <th>778</th>\n      <td>778</td>\n      <td>Sisur91</td>\n      <td>7</td>\n      <td>Male</td>\n      <td>92</td>\n      <td>Final Critic</td>\n      <td>4.19</td>\n    </tr>\n    <tr>\n      <th>779</th>\n      <td>779</td>\n      <td>Ennrian78</td>\n      <td>24</td>\n      <td>Male</td>\n      <td>50</td>\n      <td>Dawn</td>\n      <td>4.60</td>\n    </tr>\n  </tbody>\n</table>\n<p>780 rows × 7 columns</p>\n</div>"
     },
     "metadata": {},
     "execution_count": 2
    }
   ],
   "source": [
    "# Dependencies and Setup\n",
    "import pandas as pd\n",
    "\n",
    "# File to Load (Remember to Change These)\n",
    "file_to_load = \"Resources/purchase_data.csv\"\n",
    "\n",
    "# Read Purchasing File and store into Pandas data frame\n",
    "purchase_data = pd.read_csv(file_to_load)\n",
    "purchase_data"
   ]
  },
  {
   "cell_type": "markdown",
   "metadata": {},
   "source": [
    "## Player Count"
   ]
  },
  {
   "cell_type": "markdown",
   "metadata": {},
   "source": [
    "* Display the total number of players\n"
   ]
  },
  {
   "cell_type": "code",
   "execution_count": 3,
   "metadata": {},
   "outputs": [
    {
     "output_type": "stream",
     "name": "stdout",
     "text": "Unique Players: 780\n"
    }
   ],
   "source": [
    "playertotal = purchase_data[\"SN\"].count()\n",
    "print(\"Unique Players: \" + str(playertotal))"
   ]
  },
  {
   "cell_type": "markdown",
   "metadata": {},
   "source": [
    "* Run basic calculations to obtain number of unique items, average price, etc.\n",
    "\n",
    "\n",
    "* Create a summary data frame to hold the results\n",
    "\n",
    "\n",
    "* Optional: give the displayed data cleaner formatting\n",
    "\n",
    "\n",
    "* Display the summary data frame\n"
   ]
  },
  {
   "cell_type": "code",
   "execution_count": 4,
   "metadata": {
    "scrolled": true
   },
   "outputs": [
    {
     "output_type": "execute_result",
     "data": {
      "text/plain": "   Number of Unique Items  Average Price  Number of Purchases  Total Revenue\n0                     179           3.05                  780        2379.77",
      "text/html": "<div>\n<style scoped>\n    .dataframe tbody tr th:only-of-type {\n        vertical-align: middle;\n    }\n\n    .dataframe tbody tr th {\n        vertical-align: top;\n    }\n\n    .dataframe thead th {\n        text-align: right;\n    }\n</style>\n<table border=\"1\" class=\"dataframe\">\n  <thead>\n    <tr style=\"text-align: right;\">\n      <th></th>\n      <th>Number of Unique Items</th>\n      <th>Average Price</th>\n      <th>Number of Purchases</th>\n      <th>Total Revenue</th>\n    </tr>\n  </thead>\n  <tbody>\n    <tr>\n      <th>0</th>\n      <td>179</td>\n      <td>3.05</td>\n      <td>780</td>\n      <td>2379.77</td>\n    </tr>\n  </tbody>\n</table>\n</div>"
     },
     "metadata": {},
     "execution_count": 4
    }
   ],
   "source": [
    "unique_items = purchase_data[\"Item Name\"].nunique()\n",
    "tot_purch = purchase_data[\"Item Name\"].count()\n",
    "revenue = purchase_data[\"Price\"].sum()\n",
    "\n",
    "item_sum = [{\"Number of Unique Items\": unique_items, \n",
    "            \"Average Price\": round((revenue / tot_purch), 2),\n",
    "            \"Number of Purchases\": tot_purch, \n",
    "            \"Total Revenue\": revenue}]\n",
    "item_sum_df = pd.DataFrame(item_sum)\n",
    "item_sum_df"
   ]
  },
  {
   "cell_type": "markdown",
   "metadata": {},
   "source": [
    "## Gender Demographics"
   ]
  },
  {
   "cell_type": "markdown",
   "metadata": {},
   "source": [
    "* Percentage and Count of Male Players\n",
    "\n",
    "\n",
    "* Percentage and Count of Female Players\n",
    "\n",
    "\n",
    "* Percentage and Count of Other / Non-Disclosed\n",
    "\n",
    "\n"
   ]
  },
  {
   "cell_type": "code",
   "execution_count": 5,
   "metadata": {},
   "outputs": [
    {
     "output_type": "execute_result",
     "data": {
      "text/plain": "                       Total Count  Percent of Players\nMale                           652           83.589744\nFemale                         113           14.487179\nOther / Non-Disclosed           15            1.923077",
      "text/html": "<div>\n<style scoped>\n    .dataframe tbody tr th:only-of-type {\n        vertical-align: middle;\n    }\n\n    .dataframe tbody tr th {\n        vertical-align: top;\n    }\n\n    .dataframe thead th {\n        text-align: right;\n    }\n</style>\n<table border=\"1\" class=\"dataframe\">\n  <thead>\n    <tr style=\"text-align: right;\">\n      <th></th>\n      <th>Total Count</th>\n      <th>Percent of Players</th>\n    </tr>\n  </thead>\n  <tbody>\n    <tr>\n      <th>Male</th>\n      <td>652</td>\n      <td>83.589744</td>\n    </tr>\n    <tr>\n      <th>Female</th>\n      <td>113</td>\n      <td>14.487179</td>\n    </tr>\n    <tr>\n      <th>Other / Non-Disclosed</th>\n      <td>15</td>\n      <td>1.923077</td>\n    </tr>\n  </tbody>\n</table>\n</div>"
     },
     "metadata": {},
     "execution_count": 5
    }
   ],
   "source": [
    "# GENDER DEMOGRAPHICS\n",
    "# Calculate players by gender\n",
    "players_by_gender = purchase_data['Gender'].value_counts()\n",
    "players_by_gender_df = pd.DataFrame(players_by_gender)\n",
    "\n",
    "# Calculate percent of players by gender\n",
    "percent_players = (purchase_data['Gender'].value_counts() / (purchase_data['Gender'].count())) * 100\n",
    "\n",
    "# Add 'Percent of Players' to table\n",
    "players_by_gender_df['Percent of Players'] = percent_players\n",
    "gender_dems_df = pd.DataFrame(players_by_gender_df)\n",
    "gender_dems_df\n",
    "\n",
    "# Rename 'Gender' to 'Total Count'\n",
    "new_gender_dems_df = gender_dems_df.rename(columns={\n",
    "    'Gender': 'Total Count',\n",
    "})\n",
    "new_gender_dems_df\n"
   ]
  },
  {
   "cell_type": "markdown",
   "metadata": {},
   "source": [
    "\n",
    "## Purchasing Analysis (Gender)"
   ]
  },
  {
   "cell_type": "markdown",
   "metadata": {},
   "source": [
    "* Run basic calculations to obtain purchase count, avg. purchase price, avg. purchase total per person etc. by gender\n",
    "\n",
    "\n",
    "\n",
    "\n",
    "* Create a summary data frame to hold the results\n",
    "\n",
    "\n",
    "* Optional: give the displayed data cleaner formatting\n",
    "\n",
    "\n",
    "* Display the summary data frame"
   ]
  },
  {
   "cell_type": "code",
   "execution_count": 6,
   "metadata": {},
   "outputs": [
    {
     "output_type": "execute_result",
     "data": {
      "text/plain": "                       Purchase Count  Average Purchase Price  \\\nGender                                                          \nFemale                            113                3.203009   \nMale                              652                3.017853   \nOther / Non-Disclosed              15                3.346000   \n\n                       Total Purchase Price  Normalized Totals  \nGender                                                          \nFemale                               361.94           3.203009  \nMale                                1967.64           3.017853  \nOther / Non-Disclosed                 50.19           3.346000  ",
      "text/html": "<div>\n<style scoped>\n    .dataframe tbody tr th:only-of-type {\n        vertical-align: middle;\n    }\n\n    .dataframe tbody tr th {\n        vertical-align: top;\n    }\n\n    .dataframe thead th {\n        text-align: right;\n    }\n</style>\n<table border=\"1\" class=\"dataframe\">\n  <thead>\n    <tr style=\"text-align: right;\">\n      <th></th>\n      <th>Purchase Count</th>\n      <th>Average Purchase Price</th>\n      <th>Total Purchase Price</th>\n      <th>Normalized Totals</th>\n    </tr>\n    <tr>\n      <th>Gender</th>\n      <th></th>\n      <th></th>\n      <th></th>\n      <th></th>\n    </tr>\n  </thead>\n  <tbody>\n    <tr>\n      <th>Female</th>\n      <td>113</td>\n      <td>3.203009</td>\n      <td>361.94</td>\n      <td>3.203009</td>\n    </tr>\n    <tr>\n      <th>Male</th>\n      <td>652</td>\n      <td>3.017853</td>\n      <td>1967.64</td>\n      <td>3.017853</td>\n    </tr>\n    <tr>\n      <th>Other / Non-Disclosed</th>\n      <td>15</td>\n      <td>3.346000</td>\n      <td>50.19</td>\n      <td>3.346000</td>\n    </tr>\n  </tbody>\n</table>\n</div>"
     },
     "metadata": {},
     "execution_count": 6
    }
   ],
   "source": [
    "# PURCHASING ANALYSIS (GENDER)\n",
    "\n",
    "more_gender_df = purchase_data.groupby('Gender')\n",
    "\n",
    "player_count = more_gender_df['SN'].count()\n",
    "player_count_df = pd.DataFrame(player_count)\n",
    "\n",
    "avg_price = more_gender_df['Price'].mean()\n",
    "\n",
    "total_gender_purchase = more_gender_df['Price'].sum()\n",
    "\n",
    "norm_total = total_gender_purchase / player_count\n",
    "\n",
    "player_count_df['Average Purchase Price'] = avg_price\n",
    "gender_purchase_df = pd.DataFrame(player_count_df)\n",
    "\n",
    "new_gender_purchase_df = gender_purchase_df.rename(columns={\n",
    "    'SN': 'Purchase Count',})\n",
    "\n",
    "\n",
    "new_gender_purchase_df['Total Purchase Price'] = total_gender_purchase\n",
    "new_gender_purchase2_df = pd.DataFrame(new_gender_purchase_df)\n",
    "\n",
    "new_gender_purchase2_df['Normalized Totals'] = norm_total\n",
    "total_gender_purchase_df = pd.DataFrame(new_gender_purchase2_df)\n",
    "total_gender_purchase_df"
   ]
  },
  {
   "cell_type": "code",
   "execution_count": 5,
   "metadata": {},
   "outputs": [
    {
     "data": {
      "text/html": [
       "<div>\n",
       "<style scoped>\n",
       "    .dataframe tbody tr th:only-of-type {\n",
       "        vertical-align: middle;\n",
       "    }\n",
       "\n",
       "    .dataframe tbody tr th {\n",
       "        vertical-align: top;\n",
       "    }\n",
       "\n",
       "    .dataframe thead th {\n",
       "        text-align: right;\n",
       "    }\n",
       "</style>\n",
       "<table border=\"1\" class=\"dataframe\">\n",
       "  <thead>\n",
       "    <tr style=\"text-align: right;\">\n",
       "      <th></th>\n",
       "      <th>Purchase Count</th>\n",
       "      <th>Average Purchase Price</th>\n",
       "      <th>Total Purchase Value</th>\n",
       "      <th>Avg Total Purchase per Person</th>\n",
       "    </tr>\n",
       "    <tr>\n",
       "      <th>Gender</th>\n",
       "      <th></th>\n",
       "      <th></th>\n",
       "      <th></th>\n",
       "      <th></th>\n",
       "    </tr>\n",
       "  </thead>\n",
       "  <tbody>\n",
       "    <tr>\n",
       "      <th>Female</th>\n",
       "      <td>113</td>\n",
       "      <td>$3.20</td>\n",
       "      <td>$361.94</td>\n",
       "      <td>$4.47</td>\n",
       "    </tr>\n",
       "    <tr>\n",
       "      <th>Male</th>\n",
       "      <td>652</td>\n",
       "      <td>$3.02</td>\n",
       "      <td>$1,967.64</td>\n",
       "      <td>$4.07</td>\n",
       "    </tr>\n",
       "    <tr>\n",
       "      <th>Other / Non-Disclosed</th>\n",
       "      <td>15</td>\n",
       "      <td>$3.35</td>\n",
       "      <td>$50.19</td>\n",
       "      <td>$4.56</td>\n",
       "    </tr>\n",
       "  </tbody>\n",
       "</table>\n",
       "</div>"
      ],
      "text/plain": [
       "                      Purchase Count Average Purchase Price  \\\n",
       "Gender                                                        \n",
       "Female                           113                  $3.20   \n",
       "Male                             652                  $3.02   \n",
       "Other / Non-Disclosed             15                  $3.35   \n",
       "\n",
       "                      Total Purchase Value Avg Total Purchase per Person  \n",
       "Gender                                                                    \n",
       "Female                             $361.94                         $4.47  \n",
       "Male                             $1,967.64                         $4.07  \n",
       "Other / Non-Disclosed               $50.19                         $4.56  "
      ]
     },
     "execution_count": 5,
     "metadata": {},
     "output_type": "execute_result"
    }
   ],
   "source": []
  },
  {
   "cell_type": "markdown",
   "metadata": {},
   "source": [
    "## Age Demographics"
   ]
  },
  {
   "cell_type": "markdown",
   "metadata": {},
   "source": [
    "* Establish bins for ages\n",
    "\n",
    "\n",
    "* Categorize the existing players using the age bins. Hint: use pd.cut()\n",
    "\n",
    "\n",
    "* Calculate the numbers and percentages by age group\n",
    "\n",
    "\n",
    "* Create a summary data frame to hold the results\n",
    "\n",
    "\n",
    "* Optional: round the percentage column to two decimal points\n",
    "\n",
    "\n",
    "* Display Age Demographics Table\n"
   ]
  },
  {
   "cell_type": "code",
   "execution_count": 7,
   "metadata": {},
   "outputs": [
    {
     "output_type": "execute_result",
     "data": {
      "text/plain": "             Age\nTotal Count     \n<10           32\n10-14         54\n15-19        200\n20-24        325\n25-29         77\n30-34         52\n35-39         33\n40+            7",
      "text/html": "<div>\n<style scoped>\n    .dataframe tbody tr th:only-of-type {\n        vertical-align: middle;\n    }\n\n    .dataframe tbody tr th {\n        vertical-align: top;\n    }\n\n    .dataframe thead th {\n        text-align: right;\n    }\n</style>\n<table border=\"1\" class=\"dataframe\">\n  <thead>\n    <tr style=\"text-align: right;\">\n      <th></th>\n      <th>Age</th>\n    </tr>\n    <tr>\n      <th>Total Count</th>\n      <th></th>\n    </tr>\n  </thead>\n  <tbody>\n    <tr>\n      <th>&lt;10</th>\n      <td>32</td>\n    </tr>\n    <tr>\n      <th>10-14</th>\n      <td>54</td>\n    </tr>\n    <tr>\n      <th>15-19</th>\n      <td>200</td>\n    </tr>\n    <tr>\n      <th>20-24</th>\n      <td>325</td>\n    </tr>\n    <tr>\n      <th>25-29</th>\n      <td>77</td>\n    </tr>\n    <tr>\n      <th>30-34</th>\n      <td>52</td>\n    </tr>\n    <tr>\n      <th>35-39</th>\n      <td>33</td>\n    </tr>\n    <tr>\n      <th>40+</th>\n      <td>7</td>\n    </tr>\n  </tbody>\n</table>\n</div>"
     },
     "metadata": {},
     "execution_count": 7
    }
   ],
   "source": [
    "# AGE DEMOGRAPHICS\n",
    "\n",
    "bins = [0, 10, 15, 20, 25, 30, 35, 40, 100]\n",
    "group_names = ['<10', '10-14', '15-19', '20-24', '25-29', '30-34', '35-39', '40+']\n",
    "\n",
    "purchase_data['Total Count'] = pd.cut(purchase_data['Age'],\n",
    "                                     bins, labels=group_names)\n",
    "groups = purchase_data.groupby('Total Count')\n",
    "groups_df = groups.count()\n",
    "\n",
    "organized_age_df = groups_df[['Age']]\n",
    "organized_age_df"
   ]
  },
  {
   "cell_type": "markdown",
   "metadata": {},
   "source": [
    "## Purchasing Analysis (Age)"
   ]
  },
  {
   "cell_type": "markdown",
   "metadata": {},
   "source": [
    "* Bin the purchase_data data frame by age\n",
    "\n",
    "\n",
    "* Run basic calculations to obtain purchase count, avg. purchase price, avg. purchase total per person etc. in the table below\n",
    "\n",
    "\n",
    "* Create a summary data frame to hold the results\n",
    "\n",
    "\n",
    "* Optional: give the displayed data cleaner formatting\n",
    "\n",
    "\n",
    "* Display the summary data frame"
   ]
  },
  {
   "cell_type": "code",
   "execution_count": 8,
   "metadata": {},
   "outputs": [
    {
     "output_type": "execute_result",
     "data": {
      "text/plain": "             Item ID\nTotal Count         \n<10               45\n10-14             22\n15-19             23\n20-24             22\n25-29             13\n30-34             22\n35-39             23\n40+              257",
      "text/html": "<div>\n<style scoped>\n    .dataframe tbody tr th:only-of-type {\n        vertical-align: middle;\n    }\n\n    .dataframe tbody tr th {\n        vertical-align: top;\n    }\n\n    .dataframe thead th {\n        text-align: right;\n    }\n</style>\n<table border=\"1\" class=\"dataframe\">\n  <thead>\n    <tr style=\"text-align: right;\">\n      <th></th>\n      <th>Item ID</th>\n    </tr>\n    <tr>\n      <th>Total Count</th>\n      <th></th>\n    </tr>\n  </thead>\n  <tbody>\n    <tr>\n      <th>&lt;10</th>\n      <td>45</td>\n    </tr>\n    <tr>\n      <th>10-14</th>\n      <td>22</td>\n    </tr>\n    <tr>\n      <th>15-19</th>\n      <td>23</td>\n    </tr>\n    <tr>\n      <th>20-24</th>\n      <td>22</td>\n    </tr>\n    <tr>\n      <th>25-29</th>\n      <td>13</td>\n    </tr>\n    <tr>\n      <th>30-34</th>\n      <td>22</td>\n    </tr>\n    <tr>\n      <th>35-39</th>\n      <td>23</td>\n    </tr>\n    <tr>\n      <th>40+</th>\n      <td>257</td>\n    </tr>\n  </tbody>\n</table>\n</div>"
     },
     "metadata": {},
     "execution_count": 8
    }
   ],
   "source": [
    "bins2 = [0, 10, 15, 20, 25, 30, 35, 40, 100]\n",
    "group_names2 = ['<10', '10-14', '15-19', '20-24', '25-29', '30-34', '35-39', '40+']\n",
    "\n",
    "# Place total number of people per age group in their respective bins\n",
    "purchase_data['Total Count'] = pd.cut(purchase_data['Item ID'],\n",
    "                                     bins2, labels=group_names2)\n",
    "group2 = purchase_data.groupby('Total Count')\n",
    "group2_df = group2.count()\n",
    "age_purchase = group2_df['Item ID']\n",
    "age_purchase\n",
    "\n",
    "organized_age2_df = group2_df[['Item ID']]\n",
    "organized_age2_df"
   ]
  },
  {
   "cell_type": "markdown",
   "metadata": {},
   "source": [
    "## Top Spenders"
   ]
  },
  {
   "cell_type": "markdown",
   "metadata": {},
   "source": [
    "* Run basic calculations to obtain the results in the table below\n",
    "\n",
    "\n",
    "* Create a summary data frame to hold the results\n",
    "\n",
    "\n",
    "* Sort the total purchase value column in descending order\n",
    "\n",
    "\n",
    "* Optional: give the displayed data cleaner formatting\n",
    "\n",
    "\n",
    "* Display a preview of the summary data frame\n",
    "\n"
   ]
  },
  {
   "cell_type": "code",
   "execution_count": 9,
   "metadata": {},
   "outputs": [
    {
     "output_type": "execute_result",
     "data": {
      "text/plain": "             Purchase Count  Average Purchase Price  Total Purchase Value\nSN                                                                       \nLisosia93                 5                3.792000                 18.96\nIdastidru52               4                3.862500                 15.45\nChamjask73                3                4.610000                 13.83\nIral74                    4                3.405000                 13.62\nIskadarya95               3                4.366667                 13.10",
      "text/html": "<div>\n<style scoped>\n    .dataframe tbody tr th:only-of-type {\n        vertical-align: middle;\n    }\n\n    .dataframe tbody tr th {\n        vertical-align: top;\n    }\n\n    .dataframe thead th {\n        text-align: right;\n    }\n</style>\n<table border=\"1\" class=\"dataframe\">\n  <thead>\n    <tr style=\"text-align: right;\">\n      <th></th>\n      <th>Purchase Count</th>\n      <th>Average Purchase Price</th>\n      <th>Total Purchase Value</th>\n    </tr>\n    <tr>\n      <th>SN</th>\n      <th></th>\n      <th></th>\n      <th></th>\n    </tr>\n  </thead>\n  <tbody>\n    <tr>\n      <th>Lisosia93</th>\n      <td>5</td>\n      <td>3.792000</td>\n      <td>18.96</td>\n    </tr>\n    <tr>\n      <th>Idastidru52</th>\n      <td>4</td>\n      <td>3.862500</td>\n      <td>15.45</td>\n    </tr>\n    <tr>\n      <th>Chamjask73</th>\n      <td>3</td>\n      <td>4.610000</td>\n      <td>13.83</td>\n    </tr>\n    <tr>\n      <th>Iral74</th>\n      <td>4</td>\n      <td>3.405000</td>\n      <td>13.62</td>\n    </tr>\n    <tr>\n      <th>Iskadarya95</th>\n      <td>3</td>\n      <td>4.366667</td>\n      <td>13.10</td>\n    </tr>\n  </tbody>\n</table>\n</div>"
     },
     "metadata": {},
     "execution_count": 9
    }
   ],
   "source": [
    "count_per_SN = purchase_data.groupby('SN')['Price'].count()\n",
    "count_per_SN_df = pd.DataFrame(count_per_SN)\n",
    "unique_SN_df = purchase_data.groupby('SN')['Price'].sum()\n",
    "avg_price_per_SN = purchase_data.groupby('SN')['Price'].mean()\n",
    "count_per_SN_df['Average Purchase Price'] = avg_price_per_SN\n",
    "count_per_SN_df['Total Purchase Value'] = unique_SN_df\n",
    "count_per_SN_df\n",
    "\n",
    "updated_count_per_SN_df = count_per_SN_df.rename(columns={\n",
    "    'Price': 'Purchase Count',})\n",
    "\n",
    "sorted_SN_df = updated_count_per_SN_df.sort_values(by=['Total Purchase Value'], ascending=False)\n",
    "sorted_SN_df\n",
    "\n",
    "sorted_SN_df.head(5)"
   ]
  },
  {
   "cell_type": "markdown",
   "metadata": {},
   "source": [
    "## Most Popular Items"
   ]
  },
  {
   "cell_type": "markdown",
   "metadata": {},
   "source": [
    "* Retrieve the Item ID, Item Name, and Item Price columns\n",
    "\n",
    "\n",
    "* Group by Item ID and Item Name. Perform calculations to obtain purchase count, item price, and total purchase value\n",
    "\n",
    "\n",
    "* Create a summary data frame to hold the results\n",
    "\n",
    "\n",
    "* Sort the purchase count column in descending order\n",
    "\n",
    "\n",
    "* Optional: give the displayed data cleaner formatting\n",
    "\n",
    "\n",
    "* Display a preview of the summary data frame\n",
    "\n"
   ]
  },
  {
   "cell_type": "code",
   "execution_count": 10,
   "metadata": {},
   "outputs": [
    {
     "output_type": "execute_result",
     "data": {
      "text/plain": "        Item Name  Purchase Count  Item Price  Total Purchase Value\nItem ID                                                            \n92         Female              13          39                 59.99\n178        Female              12          57                 50.76\n145          Male               9          46                 41.22\n132          Male               9         145                 28.99\n108          Male               9          85                 31.77",
      "text/html": "<div>\n<style scoped>\n    .dataframe tbody tr th:only-of-type {\n        vertical-align: middle;\n    }\n\n    .dataframe tbody tr th {\n        vertical-align: top;\n    }\n\n    .dataframe thead th {\n        text-align: right;\n    }\n</style>\n<table border=\"1\" class=\"dataframe\">\n  <thead>\n    <tr style=\"text-align: right;\">\n      <th></th>\n      <th>Item Name</th>\n      <th>Purchase Count</th>\n      <th>Item Price</th>\n      <th>Total Purchase Value</th>\n    </tr>\n    <tr>\n      <th>Item ID</th>\n      <th></th>\n      <th></th>\n      <th></th>\n      <th></th>\n    </tr>\n  </thead>\n  <tbody>\n    <tr>\n      <th>92</th>\n      <td>Female</td>\n      <td>13</td>\n      <td>39</td>\n      <td>59.99</td>\n    </tr>\n    <tr>\n      <th>178</th>\n      <td>Female</td>\n      <td>12</td>\n      <td>57</td>\n      <td>50.76</td>\n    </tr>\n    <tr>\n      <th>145</th>\n      <td>Male</td>\n      <td>9</td>\n      <td>46</td>\n      <td>41.22</td>\n    </tr>\n    <tr>\n      <th>132</th>\n      <td>Male</td>\n      <td>9</td>\n      <td>145</td>\n      <td>28.99</td>\n    </tr>\n    <tr>\n      <th>108</th>\n      <td>Male</td>\n      <td>9</td>\n      <td>85</td>\n      <td>31.77</td>\n    </tr>\n  </tbody>\n</table>\n</div>"
     },
     "metadata": {},
     "execution_count": 10
    }
   ],
   "source": [
    "# MOST POPULAR ITEMS\n",
    "count_per_item = purchase_data.groupby('Item ID')['Price'].count()\n",
    "count_per_item_df = pd.DataFrame(count_per_item)\n",
    "\n",
    "unique_item_df = purchase_data.groupby('Item ID')['Price'].sum()\n",
    "\n",
    "item_name_df = purchase_data.iloc[:, 3]\n",
    "count_per_item_df['Item Name'] = item_name_df\n",
    "\n",
    "item_price_df = purchase_data.iloc[:, 4]\n",
    "count_per_item_df['Item Price'] = item_price_df\n",
    "\n",
    "count_per_item_df['Total Purchase Value'] = unique_item_df\n",
    "count_per_item_df\n",
    "updated_count_per_item_df = count_per_item_df.rename(columns={\n",
    "    'Price': 'Purchase Count',})\n",
    "\n",
    "organized_items_df = updated_count_per_item_df[['Item Name', 'Purchase Count', 'Item Price', 'Total Purchase Value']]\n",
    "\n",
    "sorted_items_df = organized_items_df.sort_values(by=['Purchase Count'], ascending=False)\n",
    "\n",
    "sorted_items_df.head(5)"
   ]
  },
  {
   "cell_type": "markdown",
   "metadata": {},
   "source": [
    "## Most Profitable Items"
   ]
  },
  {
   "cell_type": "markdown",
   "metadata": {},
   "source": [
    "* Sort the above table by total purchase value in descending order\n",
    "\n",
    "\n",
    "* Optional: give the displayed data cleaner formatting\n",
    "\n",
    "\n",
    "* Display a preview of the data frame\n",
    "\n"
   ]
  },
  {
   "cell_type": "code",
   "execution_count": 11,
   "metadata": {
    "scrolled": true
   },
   "outputs": [
    {
     "output_type": "execute_result",
     "data": {
      "text/plain": "                     Item Name  Purchase Count  Item Price  \\\nItem ID                                                      \n92                      Female              13          39   \n178                     Female              12          57   \n82       Other / Non-Disclosed               9         160   \n145                       Male               9          46   \n103                       Male               8           7   \n\n         Total Purchase Value  \nItem ID                        \n92                      59.99  \n178                     50.76  \n82                      44.10  \n145                     41.22  \n103                     34.80  ",
      "text/html": "<div>\n<style scoped>\n    .dataframe tbody tr th:only-of-type {\n        vertical-align: middle;\n    }\n\n    .dataframe tbody tr th {\n        vertical-align: top;\n    }\n\n    .dataframe thead th {\n        text-align: right;\n    }\n</style>\n<table border=\"1\" class=\"dataframe\">\n  <thead>\n    <tr style=\"text-align: right;\">\n      <th></th>\n      <th>Item Name</th>\n      <th>Purchase Count</th>\n      <th>Item Price</th>\n      <th>Total Purchase Value</th>\n    </tr>\n    <tr>\n      <th>Item ID</th>\n      <th></th>\n      <th></th>\n      <th></th>\n      <th></th>\n    </tr>\n  </thead>\n  <tbody>\n    <tr>\n      <th>92</th>\n      <td>Female</td>\n      <td>13</td>\n      <td>39</td>\n      <td>59.99</td>\n    </tr>\n    <tr>\n      <th>178</th>\n      <td>Female</td>\n      <td>12</td>\n      <td>57</td>\n      <td>50.76</td>\n    </tr>\n    <tr>\n      <th>82</th>\n      <td>Other / Non-Disclosed</td>\n      <td>9</td>\n      <td>160</td>\n      <td>44.10</td>\n    </tr>\n    <tr>\n      <th>145</th>\n      <td>Male</td>\n      <td>9</td>\n      <td>46</td>\n      <td>41.22</td>\n    </tr>\n    <tr>\n      <th>103</th>\n      <td>Male</td>\n      <td>8</td>\n      <td>7</td>\n      <td>34.80</td>\n    </tr>\n  </tbody>\n</table>\n</div>"
     },
     "metadata": {},
     "execution_count": 11
    }
   ],
   "source": [
    "# MOST PROFITABLE ITEMS\n",
    "count_per_item2 = purchase_data.groupby('Item ID')['Price'].count()\n",
    "count_per_item2_df = pd.DataFrame(count_per_item2)\n",
    "\n",
    "unique_item2_df = purchase_data.groupby('Item ID')['Price'].sum()\n",
    "\n",
    "item_name2_df = purchase_data.iloc[:, 3]\n",
    "count_per_item2_df['Item Name'] = item_name2_df\n",
    "\n",
    "item_price2_df = purchase_data.iloc[:, 4]\n",
    "count_per_item2_df['Item Price'] = item_price2_df\n",
    "\n",
    "count_per_item2_df['Total Purchase Value'] = unique_item2_df\n",
    "count_per_item2_df\n",
    "\n",
    "updated_count_per_item2_df = count_per_item2_df.rename(columns={\n",
    "    'Price': 'Purchase Count',})\n",
    "organized_items2_df = updated_count_per_item2_df[['Item Name', 'Purchase Count', 'Item Price', 'Total Purchase Value']]\n",
    "\n",
    "sorted_items2_df = organized_items2_df.sort_values(by=['Total Purchase Value'], ascending=False)\n",
    "\n",
    "sorted_items2_df.head(5)"
   ]
  },
  {
   "cell_type": "code",
   "execution_count": null,
   "metadata": {},
   "outputs": [],
   "source": []
  }
 ],
 "metadata": {
  "anaconda-cloud": {},
  "kernel_info": {
   "name": "python3"
  },
  "kernelspec": {
   "display_name": "Python 3.6.10 64-bit ('PythonData': conda)",
   "language": "python",
   "name": "python361064bitpythondataconda8be0a779c8fa40e097c0eb644e9fca02"
  },
  "language_info": {
   "codemirror_mode": {
    "name": "ipython",
    "version": 3
   },
   "file_extension": ".py",
   "mimetype": "text/x-python",
   "name": "python",
   "nbconvert_exporter": "python",
   "pygments_lexer": "ipython3",
   "version": "3.6.10-final"
  },
  "latex_envs": {
   "LaTeX_envs_menu_present": true,
   "autoclose": false,
   "autocomplete": true,
   "bibliofile": "biblio.bib",
   "cite_by": "apalike",
   "current_citInitial": 1,
   "eqLabelWithNumbers": true,
   "eqNumInitial": 1,
   "hotkeys": {
    "equation": "Ctrl-E",
    "itemize": "Ctrl-I"
   },
   "labels_anchors": false,
   "latex_user_defs": false,
   "report_style_numbering": false,
   "user_envs_cfg": false
  },
  "nteract": {
   "version": "0.2.0"
  }
 },
 "nbformat": 4,
 "nbformat_minor": 2
}